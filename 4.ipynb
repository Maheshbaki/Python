{
  "nbformat": 4,
  "nbformat_minor": 0,
  "metadata": {
    "colab": {
      "provenance": [],
      "authorship_tag": "ABX9TyM3uyjAqbLztoMazUUoePZf",
      "include_colab_link": true
    },
    "kernelspec": {
      "name": "python3",
      "display_name": "Python 3"
    },
    "language_info": {
      "name": "python"
    }
  },
  "cells": [
    {
      "cell_type": "markdown",
      "metadata": {
        "id": "view-in-github",
        "colab_type": "text"
      },
      "source": [
        "<a href=\"https://colab.research.google.com/github/Maheshbaki/Python/blob/main/4.ipynb\" target=\"_parent\"><img src=\"https://colab.research.google.com/assets/colab-badge.svg\" alt=\"Open In Colab\"/></a>"
      ]
    },
    {
      "cell_type": "code",
      "execution_count": 46,
      "metadata": {
        "colab": {
          "base_uri": "https://localhost:8080/"
        },
        "id": "wygQ1nResif-",
        "outputId": "eaf67166-3d89-4183-8629-41e9586f7e56"
      },
      "outputs": [
        {
          "output_type": "stream",
          "name": "stdout",
          "text": [
            "[9, 9, 9, 6, 5, 4, 3, 2, 1, 1]\n",
            "6\n"
          ]
        }
      ],
      "source": [
        "num = [3, 1, 4, 1, 5,6,9,9,9,2]\n",
        "ascd = sorted(num, reverse=True)\n",
        "print(ascd)\n",
        "\n",
        "if ascd[1] == ascd[2]:\n",
        "  print(ascd[3])\n",
        "\n",
        "elif ascd[0] == ascd[1]:\n",
        "    print(ascd[2])\n",
        "\n",
        "\n",
        "\n",
        "else:\n",
        "  print(ascd[1])\n"
      ]
    },
    {
      "cell_type": "code",
      "source": [
        "num = [3, 1, 4, 1, 5,9, 9, 2]\n",
        "num[2]"
      ],
      "metadata": {
        "colab": {
          "base_uri": "https://localhost:8080/"
        },
        "id": "COg5k8IXwhp9",
        "outputId": "a98ee313-d875-4428-e959-7f39b64b689a"
      },
      "execution_count": 16,
      "outputs": [
        {
          "output_type": "execute_result",
          "data": {
            "text/plain": [
              "4"
            ]
          },
          "metadata": {},
          "execution_count": 16
        }
      ]
    }
  ]
}