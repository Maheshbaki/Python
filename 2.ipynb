{
  "nbformat": 4,
  "nbformat_minor": 0,
  "metadata": {
    "colab": {
      "provenance": [],
      "authorship_tag": "ABX9TyMBKEPbMlinJ+Q85LLpqD08",
      "include_colab_link": true
    },
    "kernelspec": {
      "name": "python3",
      "display_name": "Python 3"
    },
    "language_info": {
      "name": "python"
    }
  },
  "cells": [
    {
      "cell_type": "markdown",
      "metadata": {
        "id": "view-in-github",
        "colab_type": "text"
      },
      "source": [
        "<a href=\"https://colab.research.google.com/github/Maheshbaki/Python/blob/main/2.ipynb\" target=\"_parent\"><img src=\"https://colab.research.google.com/assets/colab-badge.svg\" alt=\"Open In Colab\"/></a>"
      ]
    },
    {
      "cell_type": "code",
      "execution_count": null,
      "metadata": {
        "colab": {
          "base_uri": "https://localhost:8080/"
        },
        "id": "25vCFYWrcnjO",
        "outputId": "a35b5f4c-70bb-44c5-f84b-a37a85505b79"
      },
      "outputs": [
        {
          "output_type": "execute_result",
          "data": {
            "text/plain": [
              "{'name': 'mahesh'}"
            ]
          },
          "metadata": {},
          "execution_count": 2
        }
      ],
      "source": [
        "dict1= {\"name\": \"mahesh\"}\n",
        "dict1"
      ]
    },
    {
      "cell_type": "code",
      "source": [
        "dict1= {\"name\": \"mahesh\"}\n",
        "{k.upper(): v+v.upper() for k,v in dict1.items()}\n"
      ],
      "metadata": {
        "colab": {
          "base_uri": "https://localhost:8080/"
        },
        "id": "9jFmZiUAg8oU",
        "outputId": "6cbcbce6-c6ae-40e0-ade9-200a60fdb0b5"
      },
      "execution_count": null,
      "outputs": [
        {
          "output_type": "execute_result",
          "data": {
            "text/plain": [
              "{'NAME': 'maheshMAHESH'}"
            ]
          },
          "metadata": {},
          "execution_count": 6
        }
      ]
    },
    {
      "cell_type": "code",
      "source": [
        "dict1= {\"name\": \"mahesh\",\n",
        "        \"age\": 24,\n",
        "        \"Profession\": \"Engineer\"}\n",
        "dict1[\"age\"] = dict1[\"age\"]+1\n",
        "print(dict1)"
      ],
      "metadata": {
        "colab": {
          "base_uri": "https://localhost:8080/"
        },
        "id": "rJkgL52AhpNP",
        "outputId": "eb4f706c-55d2-4dba-a261-5b77879dd0a8"
      },
      "execution_count": null,
      "outputs": [
        {
          "output_type": "stream",
          "name": "stdout",
          "text": [
            "{'name': 'mahesh', 'age': 25, 'Profession': 'Engineer'}\n"
          ]
        }
      ]
    },
    {
      "cell_type": "code",
      "source": [
        "dict1= {\"name\": \"mahesh\",\n",
        "        \"age\": \"twentyfour\",\n",
        "        \"Profession\": \"Engineer\"}\n",
        "\n",
        "\n",
        "\n",
        "\n",
        "{k.upper(): v.upper() for k,v in dict1.items()}"
      ],
      "metadata": {
        "colab": {
          "base_uri": "https://localhost:8080/"
        },
        "id": "o_LVLnjQpLIM",
        "outputId": "3052871e-a5a3-4de4-a191-7a7f3b096b4e"
      },
      "execution_count": null,
      "outputs": [
        {
          "output_type": "execute_result",
          "data": {
            "text/plain": [
              "{'NAME': 'MAHESH', 'AGE': 'TWENTYFOUR', 'PROFESSION': 'ENGINEER'}"
            ]
          },
          "metadata": {},
          "execution_count": 20
        }
      ]
    }
  ]
}