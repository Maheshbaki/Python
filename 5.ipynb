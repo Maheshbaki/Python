{
  "nbformat": 4,
  "nbformat_minor": 0,
  "metadata": {
    "colab": {
      "provenance": [],
      "authorship_tag": "ABX9TyMPUITaIXjGNIpedMGKSNFG",
      "include_colab_link": true
    },
    "kernelspec": {
      "name": "python3",
      "display_name": "Python 3"
    },
    "language_info": {
      "name": "python"
    }
  },
  "cells": [
    {
      "cell_type": "markdown",
      "metadata": {
        "id": "view-in-github",
        "colab_type": "text"
      },
      "source": [
        "<a href=\"https://colab.research.google.com/github/Maheshbaki/Python/blob/main/5.ipynb\" target=\"_parent\"><img src=\"https://colab.research.google.com/assets/colab-badge.svg\" alt=\"Open In Colab\"/></a>"
      ]
    },
    {
      "cell_type": "code",
      "execution_count": null,
      "metadata": {
        "colab": {
          "base_uri": "https://localhost:8080/"
        },
        "id": "wygQ1nResif-",
        "outputId": "eaf67166-3d89-4183-8629-41e9586f7e56"
      },
      "outputs": [
        {
          "output_type": "stream",
          "name": "stdout",
          "text": [
            "[9, 9, 9, 6, 5, 4, 3, 2, 1, 1]\n",
            "6\n"
          ]
        }
      ],
      "source": [
        "num = [3, 1, 4, 1, 5,6,9,9,9,2]\n",
        "ascd = sorted(num, reverse=True)\n",
        "print(ascd)\n",
        "\n",
        "if ascd[1] == ascd[2]:\n",
        "  print(ascd[3])\n",
        "\n",
        "elif ascd[0] == ascd[1]:\n",
        "    print(ascd[2])\n",
        "\n",
        "\n",
        "\n",
        "else:\n",
        "  print(ascd[1])\n"
      ]
    },
    {
      "cell_type": "code",
      "source": [
        "num = [3, 1, 4, 1, 5,9, 9, 2]\n",
        "num[2]"
      ],
      "metadata": {
        "colab": {
          "base_uri": "https://localhost:8080/"
        },
        "id": "COg5k8IXwhp9",
        "outputId": "a98ee313-d875-4428-e959-7f39b64b689a"
      },
      "execution_count": null,
      "outputs": [
        {
          "output_type": "execute_result",
          "data": {
            "text/plain": [
              "4"
            ]
          },
          "metadata": {},
          "execution_count": 16
        }
      ]
    },
    {
      "cell_type": "code",
      "source": [
        "(2,3,4)* 2"
      ],
      "metadata": {
        "colab": {
          "base_uri": "https://localhost:8080/"
        },
        "id": "KvvnA77ejzby",
        "outputId": "a68dc607-3ff5-493e-8af2-49c059b84ec2"
      },
      "execution_count": null,
      "outputs": [
        {
          "output_type": "execute_result",
          "data": {
            "text/plain": [
              "(2, 3, 4, 2, 3, 4)"
            ]
          },
          "metadata": {},
          "execution_count": 1
        }
      ]
    },
    {
      "cell_type": "code",
      "source": [
        "def multi(x,y=2,*args):\n",
        "  mul = x*y\n",
        "  for i in args:\n",
        "    mul = mul*i\n",
        "  return mul\n"
      ],
      "metadata": {
        "id": "3mTxeX18shut"
      },
      "execution_count": null,
      "outputs": []
    },
    {
      "cell_type": "code",
      "source": [
        "lst = []\n",
        "num = input(\"enter your number - \")\n",
        "num = int(num)+1\n",
        "for i in range(1,num):\n",
        "  lst.append(i)\n",
        "\n",
        "\n",
        "multi(*lst)"
      ],
      "metadata": {
        "colab": {
          "base_uri": "https://localhost:8080/"
        },
        "id": "kDFmtD5ss5XH",
        "outputId": "583774e1-ebd7-453c-891d-6fc8a5a9944b"
      },
      "execution_count": null,
      "outputs": [
        {
          "name": "stdout",
          "output_type": "stream",
          "text": [
            "enter your number - 7\n"
          ]
        },
        {
          "output_type": "execute_result",
          "data": {
            "text/plain": [
              "5040"
            ]
          },
          "metadata": {},
          "execution_count": 41
        }
      ]
    },
    {
      "cell_type": "code",
      "source": [
        "num = input(\"enter your number - \")\n",
        "num = int(num)+1\n",
        "for i in range(1,num):\n",
        "  factl=1\n",
        "\n",
        "  for j in range(1,i+1):\n",
        "   factl = factl*j\n",
        "  print(factl)"
      ],
      "metadata": {
        "colab": {
          "base_uri": "https://localhost:8080/"
        },
        "id": "kyXhOG-Tt75B",
        "outputId": "c30765ad-92c2-4320-8b77-98f5857ff46f"
      },
      "execution_count": null,
      "outputs": [
        {
          "output_type": "stream",
          "name": "stdout",
          "text": [
            "enter your number - 5\n",
            "1\n",
            "2\n",
            "6\n",
            "24\n",
            "120\n"
          ]
        }
      ]
    },
    {
      "cell_type": "code",
      "source": [
        "name = input(\"enter name\")\n",
        "length = len(name)\n",
        "print(f\"length is {length}\")"
      ],
      "metadata": {
        "colab": {
          "base_uri": "https://localhost:8080/"
        },
        "id": "AIG1w0-LTs1-",
        "outputId": "f86e79d0-c80f-44a7-c139-764223938375"
      },
      "execution_count": 1,
      "outputs": [
        {
          "output_type": "stream",
          "name": "stdout",
          "text": [
            "enter namevimala\n",
            "length is 6\n"
          ]
        }
      ]
    },
    {
      "cell_type": "code",
      "source": [
        "txt = '''The United States dollar, or U.S. dollar, is made up of 100 cents.\n",
        "It is represented by the symbol $ or US$ to differentiate it from other dollar-based currencies.\n",
        "The U.S. dollar is considered a benchmark currency and is the most used currency in transactions around the world.\n",
        "'''\n",
        "countt = txt.count(\"$\")\n",
        "print(countt)"
      ],
      "metadata": {
        "colab": {
          "base_uri": "https://localhost:8080/"
        },
        "id": "Ebr3XX_WUOj5",
        "outputId": "d8d7d320-728e-42ed-9014-aaceeada4810"
      },
      "execution_count": 5,
      "outputs": [
        {
          "output_type": "stream",
          "name": "stdout",
          "text": [
            "2\n"
          ]
        }
      ]
    },
    {
      "cell_type": "code",
      "source": [
        "anil_marks = {\"maths\": 71,\n",
        "              \"physics\": 80,\n",
        "              \"chem\":95,\n",
        "              \"telugu\":33,\n",
        "              \"biolg\": 45}\n",
        "\n",
        "for k,v in anil_marks.items():\n",
        "  if v >= 90:\n",
        "    print(\"grade A in \",k)\n",
        "  elif v >= 80 and v <90:\n",
        "    print(\"grade B in \",k)\n",
        "  elif v >= 70 and v <80:\n",
        "    print(\"grade C in \",k)\n",
        "  else:\n",
        "    print(\"failed in \",k)"
      ],
      "metadata": {
        "colab": {
          "base_uri": "https://localhost:8080/"
        },
        "id": "jEpiNJDhZOm5",
        "outputId": "dffd5125-8345-462e-e670-8c27ffe266bd"
      },
      "execution_count": 20,
      "outputs": [
        {
          "output_type": "stream",
          "name": "stdout",
          "text": [
            "grade C in  maths\n",
            "grade B in  physics\n",
            "grade A in  chem\n",
            "failed in  telugu\n",
            "failed in  biolg\n"
          ]
        }
      ]
    },
    {
      "cell_type": "code",
      "source": [
        "sunil_marks = {\"maths\": 90,\n",
        "              \"physics\": 65,\n",
        "              \"chem\": 89,\n",
        "              \"telugu\": 94,\n",
        "              \"biolg\": 76}\n",
        "\n",
        "for k,v in sunil_marks.items():\n",
        "  if v >= 90:\n",
        "    print(\"grade A in \",k)\n",
        "  elif v >= 80 and v <90:\n",
        "    print(\"grade B in \",k)\n",
        "  elif v >= 70 and v <80:\n",
        "    print(\"grade C in \",k)\n",
        "  else:\n",
        "    print(\"failed in \",k)"
      ],
      "metadata": {
        "colab": {
          "base_uri": "https://localhost:8080/"
        },
        "id": "-15LiwQxbqER",
        "outputId": "7d06235a-ee8a-49b5-e236-363537e09eb2"
      },
      "execution_count": 21,
      "outputs": [
        {
          "output_type": "stream",
          "name": "stdout",
          "text": [
            "grade A in  maths\n",
            "failed in  physics\n",
            "grade B in  chem\n",
            "grade A in  telugu\n",
            "grade C in  biolg\n"
          ]
        }
      ]
    }
  ]
}