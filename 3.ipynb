{
  "nbformat": 4,
  "nbformat_minor": 0,
  "metadata": {
    "colab": {
      "provenance": [],
      "authorship_tag": "ABX9TyMgArC542p+OliQC2NdJWlh",
      "include_colab_link": true
    },
    "kernelspec": {
      "name": "python3",
      "display_name": "Python 3"
    },
    "language_info": {
      "name": "python"
    }
  },
  "cells": [
    {
      "cell_type": "markdown",
      "metadata": {
        "id": "view-in-github",
        "colab_type": "text"
      },
      "source": [
        "<a href=\"https://colab.research.google.com/github/Maheshbaki/Python/blob/main/3.ipynb\" target=\"_parent\"><img src=\"https://colab.research.google.com/assets/colab-badge.svg\" alt=\"Open In Colab\"/></a>"
      ]
    },
    {
      "cell_type": "code",
      "execution_count": null,
      "metadata": {
        "colab": {
          "base_uri": "https://localhost:8080/"
        },
        "id": "JgzSzDWYCvCK",
        "outputId": "57e5572e-0eaf-4cd8-d04b-22509e55c3db"
      },
      "outputs": [
        {
          "output_type": "stream",
          "name": "stdout",
          "text": [
            "Enter 1st number: 4\n",
            "Enter 2nd number: 9\n",
            "[4, 9]\n"
          ]
        },
        {
          "output_type": "execute_result",
          "data": {
            "text/plain": [
              "13"
            ]
          },
          "metadata": {},
          "execution_count": 20
        }
      ],
      "source": [
        "num1 = int(input(\"Enter 1st number: \"))\n",
        "num2 = int(input(\"Enter 2nd number: \"))\n",
        "given_num = [num1,num2]\n",
        "print(given_num)\n",
        "arbitrary_num = num1+num2\n",
        "arbitrary_num\n",
        "\n",
        "\n"
      ]
    },
    {
      "cell_type": "code",
      "source": [
        "a = 33\n",
        "b = 33\n",
        "if a < b:\n",
        "  print(f\"{a} is less than {b}\")\n",
        "\n",
        "elif a == b:\n",
        "  print(f\"{a} is equal to {b}\")\n",
        "\n",
        "else:\n",
        "    print(f\"{a} is greater than {b}\")"
      ],
      "metadata": {
        "colab": {
          "base_uri": "https://localhost:8080/"
        },
        "id": "Ow86CA3gadaG",
        "outputId": "39d67d2e-07ca-4ab5-87da-9ed29f93affd"
      },
      "execution_count": null,
      "outputs": [
        {
          "output_type": "stream",
          "name": "stdout",
          "text": [
            "33 is equal to 33\n"
          ]
        }
      ]
    },
    {
      "cell_type": "code",
      "source": [
        "a = int(input(\"enter value1 : \"))\n",
        "b = int(input(\"enter value2 : \"))\n",
        "\n",
        "if a >= b:\n",
        "  print(\"True\")\n",
        "else :\n",
        "  print(\"False\")"
      ],
      "metadata": {
        "id": "GP8f2YNgc1u2",
        "outputId": "5b00843c-9b70-4c76-af98-3002f46a5af2",
        "colab": {
          "base_uri": "https://localhost:8080/"
        }
      },
      "execution_count": 1,
      "outputs": [
        {
          "output_type": "stream",
          "name": "stdout",
          "text": [
            "enter value1 : 89\n",
            "enter value2 : 90\n",
            "False\n"
          ]
        }
      ]
    },
    {
      "cell_type": "code",
      "source": [
        "num1 = float(input(\"number 1 = \"))\n",
        "num2 = float(input(\"number 2 = \"))\n",
        "\n",
        "sum = num1 + num2\n",
        "\n",
        "avg = sum/2\n",
        "print(f\"your average = {avg}\")"
      ],
      "metadata": {
        "id": "Bfc3V9sOEpoR",
        "outputId": "f09c2e42-db42-47d1-9c8e-888223c1c7b4",
        "colab": {
          "base_uri": "https://localhost:8080/"
        }
      },
      "execution_count": 2,
      "outputs": [
        {
          "output_type": "stream",
          "name": "stdout",
          "text": [
            "number 1 = 5\n",
            "number 2 = 95\n",
            "your average = 50.0\n"
          ]
        }
      ]
    },
    {
      "cell_type": "markdown",
      "source": [
        "## Q11"
      ],
      "metadata": {
        "id": "zilYUavsdFx9"
      }
    },
    {
      "cell_type": "code",
      "source": [
        "matx = [[170,2,3],\n",
        "        [4,78,6],\n",
        "        [7,8,55]]\n",
        "a = matx[0][0]\n",
        "b = matx[1][1]\n",
        "c = matx[2][2]\n",
        "\n",
        "def add(a,b,c):\n",
        "  sum = a+b+c\n",
        "  return sum\n",
        "\n",
        "add(a,b,c)"
      ],
      "metadata": {
        "id": "k7ETYnKTc8mN",
        "outputId": "f87dbaed-5025-4a75-b0d8-0cc6b54f1839",
        "colab": {
          "base_uri": "https://localhost:8080/"
        }
      },
      "execution_count": 11,
      "outputs": [
        {
          "output_type": "execute_result",
          "data": {
            "text/plain": [
              "303"
            ]
          },
          "metadata": {},
          "execution_count": 11
        }
      ]
    },
    {
      "cell_type": "markdown",
      "source": [
        "## Q10"
      ],
      "metadata": {
        "id": "wH38z5FAdtEE"
      }
    },
    {
      "cell_type": "code",
      "source": [
        "for i in range(1,51):\n",
        "\n",
        "  if i % 3 == 0 and i % 5 == 0:\n",
        "    print(\"Fizzbuzz\")\n",
        "  elif i % 3 == 0:\n",
        "    print(\"Fizz\")\n",
        "\n",
        "  elif i % 5 == 0:\n",
        "    print(\"Buzz\")\n",
        "\n",
        "  else:\n",
        "    print(i**2)"
      ],
      "metadata": {
        "collapsed": true,
        "id": "81NeZZWGdv31",
        "outputId": "de91f3ad-0df7-49a3-ec2f-c4fb0d28dc7a",
        "colab": {
          "base_uri": "https://localhost:8080/"
        }
      },
      "execution_count": 12,
      "outputs": [
        {
          "output_type": "stream",
          "name": "stdout",
          "text": [
            "1\n",
            "4\n",
            "Fizz\n",
            "16\n",
            "Buzz\n",
            "Fizz\n",
            "49\n",
            "64\n",
            "Fizz\n",
            "Buzz\n",
            "121\n",
            "Fizz\n",
            "169\n",
            "196\n",
            "Fizzbuzz\n",
            "256\n",
            "289\n",
            "Fizz\n",
            "361\n",
            "Buzz\n",
            "Fizz\n",
            "484\n",
            "529\n",
            "Fizz\n",
            "Buzz\n",
            "676\n",
            "Fizz\n",
            "784\n",
            "841\n",
            "Fizzbuzz\n",
            "961\n",
            "1024\n",
            "Fizz\n",
            "1156\n",
            "Buzz\n",
            "Fizz\n",
            "1369\n",
            "1444\n",
            "Fizz\n",
            "Buzz\n",
            "1681\n",
            "Fizz\n",
            "1849\n",
            "1936\n",
            "Fizzbuzz\n",
            "2116\n",
            "2209\n",
            "Fizz\n",
            "2401\n",
            "Buzz\n"
          ]
        }
      ]
    },
    {
      "cell_type": "code",
      "source": [],
      "metadata": {
        "id": "E5LGA6RGdzJ-"
      },
      "execution_count": null,
      "outputs": []
    }
  ]
}