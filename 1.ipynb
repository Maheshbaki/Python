{
  "nbformat": 4,
  "nbformat_minor": 0,
  "metadata": {
    "colab": {
      "provenance": [],
      "authorship_tag": "ABX9TyMVVbFhxxVgQrvTrr9xThjt",
      "include_colab_link": true
    },
    "kernelspec": {
      "name": "python3",
      "display_name": "Python 3"
    },
    "language_info": {
      "name": "python"
    }
  },
  "cells": [
    {
      "cell_type": "markdown",
      "metadata": {
        "id": "view-in-github",
        "colab_type": "text"
      },
      "source": [
        "<a href=\"https://colab.research.google.com/github/Maheshbaki/Python/blob/main/1.ipynb\" target=\"_parent\"><img src=\"https://colab.research.google.com/assets/colab-badge.svg\" alt=\"Open In Colab\"/></a>"
      ]
    },
    {
      "cell_type": "code",
      "source": [],
      "metadata": {
        "id": "gjx8PkNh4NVO"
      },
      "execution_count": null,
      "outputs": []
    },
    {
      "cell_type": "code",
      "source": [
        "vowels = {\"a\": 1,\"e\":5,\"i\":9,\"o\":15,\"u\":21}\n",
        "\n",
        "\n",
        "str1 = \"Hello World Im MAHESH\"\n",
        "rev_str1 = str1[::-1]\n",
        "rev_str1 = rev_str1.lower()\n",
        "rev_str1\n",
        "for char in rev_str1:\n",
        "    if char in vowels.keys():\n",
        "        print(vowels[char],end=\"\")\n",
        "    else:\n",
        "        print(char,end=\"\")"
      ],
      "metadata": {
        "id": "7C47zJpIQC95",
        "colab": {
          "base_uri": "https://localhost:8080/"
        },
        "outputId": "7f792e14-1842-49c8-9990-0466570a7908"
      },
      "execution_count": 1,
      "outputs": [
        {
          "output_type": "stream",
          "name": "stdout",
          "text": [
            "hs5h1m m9 dlr15w 15ll5h"
          ]
        }
      ]
    },
    {
      "cell_type": "code",
      "source": [
        "txt = \"***Able was I,sds e#$r$#e SDSI saw Elba***\"\n",
        "txt = txt.replace(\",\",\"\")\n",
        "txt = txt.replace(\" \",\"\")\n",
        "txt = txt.lower()\n",
        "rev_txt = txt[::-1]\n",
        "rev_txt\n",
        "if txt == rev_txt:\n",
        "  print(\"palindrome\")\n",
        "\n",
        "else:\n",
        "    print(\"not palindrome\")"
      ],
      "metadata": {
        "colab": {
          "base_uri": "https://localhost:8080/"
        },
        "id": "3imdJfOH5LUX",
        "outputId": "69f022f2-c970-4406-a4ac-9d82034ec037"
      },
      "execution_count": 2,
      "outputs": [
        {
          "output_type": "stream",
          "name": "stdout",
          "text": [
            "palindrome\n"
          ]
        }
      ]
    },
    {
      "cell_type": "code",
      "source": [
        "num = [1,2,3,4,5,6,90]\n",
        "for i in num:\n",
        "  if i%2 == 0:\n",
        "    print(\"num is even\")\n",
        "  else:\n",
        "    print(\"num is odd\")"
      ],
      "metadata": {
        "colab": {
          "base_uri": "https://localhost:8080/"
        },
        "id": "yiueeuuQ7Ztc",
        "outputId": "fc5c4abd-156a-4170-9dd6-419ccc5ec533"
      },
      "execution_count": 3,
      "outputs": [
        {
          "output_type": "stream",
          "name": "stdout",
          "text": [
            "num is odd\n",
            "num is even\n",
            "num is odd\n",
            "num is even\n",
            "num is odd\n",
            "num is even\n",
            "num is even\n"
          ]
        }
      ]
    },
    {
      "cell_type": "code",
      "source": [
        "num = [1,2,3,4,5,6,90]\n",
        "num.append(203)\n",
        "num.pop(5)\n",
        "num.extend([5,6,7,9,40,60])\n",
        "srt_list = sorted(num)\n",
        "num[0:9:3]\n",
        "srt_list\n",
        "num\n",
        "print(srt_list)\n",
        "print(num)\n",
        "for i in srt_list:\n",
        "  if i >= 20:\n",
        "    print(f\"{i} is greater than 20\")\n",
        "  else:\n",
        "    print(f\"{i} is less than 20\")\n"
      ],
      "metadata": {
        "colab": {
          "base_uri": "https://localhost:8080/"
        },
        "id": "aycMmAKt9B9h",
        "outputId": "4e51cdd6-a518-4fe1-dac9-71e050ae6800"
      },
      "execution_count": 4,
      "outputs": [
        {
          "output_type": "stream",
          "name": "stdout",
          "text": [
            "[1, 2, 3, 4, 5, 5, 6, 7, 9, 40, 60, 90, 203]\n",
            "[1, 2, 3, 4, 5, 90, 203, 5, 6, 7, 9, 40, 60]\n",
            "1 is less than 20\n",
            "2 is less than 20\n",
            "3 is less than 20\n",
            "4 is less than 20\n",
            "5 is less than 20\n",
            "5 is less than 20\n",
            "6 is less than 20\n",
            "7 is less than 20\n",
            "9 is less than 20\n",
            "40 is greater than 20\n",
            "60 is greater than 20\n",
            "90 is greater than 20\n",
            "203 is greater than 20\n"
          ]
        }
      ]
    }
  ]
}