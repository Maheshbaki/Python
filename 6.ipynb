{
  "nbformat": 4,
  "nbformat_minor": 0,
  "metadata": {
    "colab": {
      "provenance": [],
      "authorship_tag": "ABX9TyNiVaN29+xvbdWMGmDGQCMJ",
      "include_colab_link": true
    },
    "kernelspec": {
      "name": "python3",
      "display_name": "Python 3"
    },
    "language_info": {
      "name": "python"
    }
  },
  "cells": [
    {
      "cell_type": "markdown",
      "metadata": {
        "id": "view-in-github",
        "colab_type": "text"
      },
      "source": [
        "<a href=\"https://colab.research.google.com/github/Maheshbaki/Python/blob/main/6.ipynb\" target=\"_parent\"><img src=\"https://colab.research.google.com/assets/colab-badge.svg\" alt=\"Open In Colab\"/></a>"
      ]
    },
    {
      "cell_type": "code",
      "execution_count": 1,
      "metadata": {
        "id": "NtH_DCYHT1v6"
      },
      "outputs": [],
      "source": [
        "def grade(dict):\n",
        "  for k,v in dict.items():\n",
        "    if v >= 90:\n",
        "      print(\"10 points in \",k)\n",
        "    elif v >= 80 and v <90:\n",
        "      print(\"9 points in \",k)\n",
        "    elif v >= 70 and v <80:\n",
        "      print(\"8 points in \",k)\n",
        "    else:\n",
        "      print(\"0 points in \",k)\n",
        ""
      ]
    },
    {
      "cell_type": "code",
      "source": [
        "sunil_marks = {\"maths\": 90,\n",
        "              \"physics\": 65,\n",
        "              \"chem\": 89,\n",
        "              \"telugu\": 94,\n",
        "              \"biolg\": 76}\n",
        "\n",
        "grade(sunil_marks)"
      ],
      "metadata": {
        "colab": {
          "base_uri": "https://localhost:8080/"
        },
        "id": "A5Vz7FBrUD-C",
        "outputId": "7fc0071e-3b07-4134-b966-f3801b601cd5"
      },
      "execution_count": 3,
      "outputs": [
        {
          "output_type": "stream",
          "name": "stdout",
          "text": [
            "10 points in  maths\n",
            "0 points in  physics\n",
            "9 points in  chem\n",
            "10 points in  telugu\n",
            "8 points in  biolg\n"
          ]
        }
      ]
    }
  ]
}