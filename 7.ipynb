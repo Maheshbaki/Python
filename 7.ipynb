{
  "nbformat": 4,
  "nbformat_minor": 0,
  "metadata": {
    "colab": {
      "provenance": [],
      "authorship_tag": "ABX9TyOYdB5HNztkFKvP5pjtnZM/",
      "include_colab_link": true
    },
    "kernelspec": {
      "name": "python3",
      "display_name": "Python 3"
    },
    "language_info": {
      "name": "python"
    }
  },
  "cells": [
    {
      "cell_type": "markdown",
      "metadata": {
        "id": "view-in-github",
        "colab_type": "text"
      },
      "source": [
        "<a href=\"https://colab.research.google.com/github/Maheshbaki/Python/blob/main/7.ipynb\" target=\"_parent\"><img src=\"https://colab.research.google.com/assets/colab-badge.svg\" alt=\"Open In Colab\"/></a>"
      ]
    },
    {
      "cell_type": "code",
      "execution_count": 4,
      "metadata": {
        "colab": {
          "base_uri": "https://localhost:8080/"
        },
        "id": "1pqvB66MI6C1",
        "outputId": "99a082b2-7d56-4ede-d854-b6b19da0341b"
      },
      "outputs": [
        {
          "output_type": "stream",
          "name": "stdout",
          "text": [
            "enter your fav movie - j\n",
            "enter your fav movie - k\n",
            "enter your fav movie - l\n",
            "['j', 'k', 'l']\n"
          ]
        }
      ],
      "source": [
        "lst = []\n",
        "lst.append(input(\"enter your fav movie - \"))\n",
        "lst.append(input(\"enter your fav movie - \"))\n",
        "lst.append(input(\"enter your fav movie - \"))\n",
        "\n",
        "print(lst)"
      ]
    },
    {
      "cell_type": "code",
      "source": [
        "lst1 = [1,\"abc\", \"abc\", 1]\n",
        "rev_lst1 = lst1[::-1]\n",
        "print(rev_lst1)\n",
        "if lst1 == rev_lst1:\n",
        "    print(\"palindrome\")\n",
        "else:\n",
        "    print(\"not palindrome\")"
      ],
      "metadata": {
        "colab": {
          "base_uri": "https://localhost:8080/"
        },
        "id": "nycKQWhFJeI5",
        "outputId": "525608ff-3f47-4baf-8816-8a33592922d4"
      },
      "execution_count": 6,
      "outputs": [
        {
          "output_type": "stream",
          "name": "stdout",
          "text": [
            "[1, 'abc', 'abc', 1]\n",
            "palindrome\n"
          ]
        }
      ]
    },
    {
      "cell_type": "code",
      "source": [
        "tup1 = (\"C\", \"D\", \"B\", \"F\",\"A\",\"F\",\"A\")\n",
        "A_students = tup1.count(\"A\")\n",
        "print(\"A students are\",A_students)\n",
        "F_students = tup1.count(\"F\")\n",
        "print(\"F students are\",F_students)"
      ],
      "metadata": {
        "colab": {
          "base_uri": "https://localhost:8080/"
        },
        "id": "5s-Ro521MPIj",
        "outputId": "4ddba4ae-38c3-40e6-dc28-c66579cf44f0"
      },
      "execution_count": 10,
      "outputs": [
        {
          "output_type": "stream",
          "name": "stdout",
          "text": [
            "A students are 2\n",
            "F students are 2\n"
          ]
        }
      ]
    },
    {
      "cell_type": "code",
      "source": [
        "tup1 = (\"C\", \"D\", \"B\", \"F\",\"A\",\"F\",\"A\")\n",
        "list1 = list(tup1)\n",
        "list1.sort()\n",
        "print(list1)"
      ],
      "metadata": {
        "colab": {
          "base_uri": "https://localhost:8080/"
        },
        "id": "VfESUOR9NLC6",
        "outputId": "e8389c3d-76e3-435a-af8b-50b1fa9229df"
      },
      "execution_count": 11,
      "outputs": [
        {
          "output_type": "stream",
          "name": "stdout",
          "text": [
            "['A', 'A', 'B', 'C', 'D', 'F', 'F']\n"
          ]
        }
      ]
    }
  ]
}